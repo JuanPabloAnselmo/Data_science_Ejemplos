{
  "nbformat": 4,
  "nbformat_minor": 0,
  "metadata": {
    "colab": {
      "provenance": []
    },
    "kernelspec": {
      "name": "python3",
      "display_name": "Python 3"
    },
    "widgets": {
      "application/vnd.jupyter.widget-state+json": {
        "442083dac78f4293a44bbc860b4f2d62": {
          "model_module": "@jupyter-widgets/controls",
          "model_name": "HBoxModel",
          "model_module_version": "1.5.0",
          "state": {
            "_dom_classes": [],
            "_model_module": "@jupyter-widgets/controls",
            "_model_module_version": "1.5.0",
            "_model_name": "HBoxModel",
            "_view_count": null,
            "_view_module": "@jupyter-widgets/controls",
            "_view_module_version": "1.5.0",
            "_view_name": "HBoxView",
            "box_style": "",
            "children": [
              "IPY_MODEL_6df575cea8c54efcb8a11f0514707e98",
              "IPY_MODEL_edbfebb1adbd497ebf339660403d4d6a",
              "IPY_MODEL_16dd08368b8f4614b16f7752c73c08d8"
            ],
            "layout": "IPY_MODEL_aef76dde5d2d4ec7bc59e9801bf83cfd"
          }
        },
        "6df575cea8c54efcb8a11f0514707e98": {
          "model_module": "@jupyter-widgets/controls",
          "model_name": "HTMLModel",
          "model_module_version": "1.5.0",
          "state": {
            "_dom_classes": [],
            "_model_module": "@jupyter-widgets/controls",
            "_model_module_version": "1.5.0",
            "_model_name": "HTMLModel",
            "_view_count": null,
            "_view_module": "@jupyter-widgets/controls",
            "_view_module_version": "1.5.0",
            "_view_name": "HTMLView",
            "description": "",
            "description_tooltip": null,
            "layout": "IPY_MODEL_c819dfe8fc4a4a77a4d26a7596b21e99",
            "placeholder": "​",
            "style": "IPY_MODEL_c41013690449499ca696dc7d60bf7d97",
            "value": "100%"
          }
        },
        "edbfebb1adbd497ebf339660403d4d6a": {
          "model_module": "@jupyter-widgets/controls",
          "model_name": "FloatProgressModel",
          "model_module_version": "1.5.0",
          "state": {
            "_dom_classes": [],
            "_model_module": "@jupyter-widgets/controls",
            "_model_module_version": "1.5.0",
            "_model_name": "FloatProgressModel",
            "_view_count": null,
            "_view_module": "@jupyter-widgets/controls",
            "_view_module_version": "1.5.0",
            "_view_name": "ProgressView",
            "bar_style": "success",
            "description": "",
            "description_tooltip": null,
            "layout": "IPY_MODEL_66fa856841f64ce49f5b2fb4259e86cb",
            "max": 3,
            "min": 0,
            "orientation": "horizontal",
            "style": "IPY_MODEL_c3d46d873bb14c22a2ba177bf0343960",
            "value": 3
          }
        },
        "16dd08368b8f4614b16f7752c73c08d8": {
          "model_module": "@jupyter-widgets/controls",
          "model_name": "HTMLModel",
          "model_module_version": "1.5.0",
          "state": {
            "_dom_classes": [],
            "_model_module": "@jupyter-widgets/controls",
            "_model_module_version": "1.5.0",
            "_model_name": "HTMLModel",
            "_view_count": null,
            "_view_module": "@jupyter-widgets/controls",
            "_view_module_version": "1.5.0",
            "_view_name": "HTMLView",
            "description": "",
            "description_tooltip": null,
            "layout": "IPY_MODEL_484e6b1cefb14801b72474952ae8ce96",
            "placeholder": "​",
            "style": "IPY_MODEL_698c62bd6f934c6eb0d52be62678392a",
            "value": " 3/3 [00:00&lt;00:00, 70.55it/s]"
          }
        },
        "aef76dde5d2d4ec7bc59e9801bf83cfd": {
          "model_module": "@jupyter-widgets/base",
          "model_name": "LayoutModel",
          "model_module_version": "1.2.0",
          "state": {
            "_model_module": "@jupyter-widgets/base",
            "_model_module_version": "1.2.0",
            "_model_name": "LayoutModel",
            "_view_count": null,
            "_view_module": "@jupyter-widgets/base",
            "_view_module_version": "1.2.0",
            "_view_name": "LayoutView",
            "align_content": null,
            "align_items": null,
            "align_self": null,
            "border": null,
            "bottom": null,
            "display": null,
            "flex": null,
            "flex_flow": null,
            "grid_area": null,
            "grid_auto_columns": null,
            "grid_auto_flow": null,
            "grid_auto_rows": null,
            "grid_column": null,
            "grid_gap": null,
            "grid_row": null,
            "grid_template_areas": null,
            "grid_template_columns": null,
            "grid_template_rows": null,
            "height": null,
            "justify_content": null,
            "justify_items": null,
            "left": null,
            "margin": null,
            "max_height": null,
            "max_width": null,
            "min_height": null,
            "min_width": null,
            "object_fit": null,
            "object_position": null,
            "order": null,
            "overflow": null,
            "overflow_x": null,
            "overflow_y": null,
            "padding": null,
            "right": null,
            "top": null,
            "visibility": null,
            "width": null
          }
        },
        "c819dfe8fc4a4a77a4d26a7596b21e99": {
          "model_module": "@jupyter-widgets/base",
          "model_name": "LayoutModel",
          "model_module_version": "1.2.0",
          "state": {
            "_model_module": "@jupyter-widgets/base",
            "_model_module_version": "1.2.0",
            "_model_name": "LayoutModel",
            "_view_count": null,
            "_view_module": "@jupyter-widgets/base",
            "_view_module_version": "1.2.0",
            "_view_name": "LayoutView",
            "align_content": null,
            "align_items": null,
            "align_self": null,
            "border": null,
            "bottom": null,
            "display": null,
            "flex": null,
            "flex_flow": null,
            "grid_area": null,
            "grid_auto_columns": null,
            "grid_auto_flow": null,
            "grid_auto_rows": null,
            "grid_column": null,
            "grid_gap": null,
            "grid_row": null,
            "grid_template_areas": null,
            "grid_template_columns": null,
            "grid_template_rows": null,
            "height": null,
            "justify_content": null,
            "justify_items": null,
            "left": null,
            "margin": null,
            "max_height": null,
            "max_width": null,
            "min_height": null,
            "min_width": null,
            "object_fit": null,
            "object_position": null,
            "order": null,
            "overflow": null,
            "overflow_x": null,
            "overflow_y": null,
            "padding": null,
            "right": null,
            "top": null,
            "visibility": null,
            "width": null
          }
        },
        "c41013690449499ca696dc7d60bf7d97": {
          "model_module": "@jupyter-widgets/controls",
          "model_name": "DescriptionStyleModel",
          "model_module_version": "1.5.0",
          "state": {
            "_model_module": "@jupyter-widgets/controls",
            "_model_module_version": "1.5.0",
            "_model_name": "DescriptionStyleModel",
            "_view_count": null,
            "_view_module": "@jupyter-widgets/base",
            "_view_module_version": "1.2.0",
            "_view_name": "StyleView",
            "description_width": ""
          }
        },
        "66fa856841f64ce49f5b2fb4259e86cb": {
          "model_module": "@jupyter-widgets/base",
          "model_name": "LayoutModel",
          "model_module_version": "1.2.0",
          "state": {
            "_model_module": "@jupyter-widgets/base",
            "_model_module_version": "1.2.0",
            "_model_name": "LayoutModel",
            "_view_count": null,
            "_view_module": "@jupyter-widgets/base",
            "_view_module_version": "1.2.0",
            "_view_name": "LayoutView",
            "align_content": null,
            "align_items": null,
            "align_self": null,
            "border": null,
            "bottom": null,
            "display": null,
            "flex": null,
            "flex_flow": null,
            "grid_area": null,
            "grid_auto_columns": null,
            "grid_auto_flow": null,
            "grid_auto_rows": null,
            "grid_column": null,
            "grid_gap": null,
            "grid_row": null,
            "grid_template_areas": null,
            "grid_template_columns": null,
            "grid_template_rows": null,
            "height": null,
            "justify_content": null,
            "justify_items": null,
            "left": null,
            "margin": null,
            "max_height": null,
            "max_width": null,
            "min_height": null,
            "min_width": null,
            "object_fit": null,
            "object_position": null,
            "order": null,
            "overflow": null,
            "overflow_x": null,
            "overflow_y": null,
            "padding": null,
            "right": null,
            "top": null,
            "visibility": null,
            "width": null
          }
        },
        "c3d46d873bb14c22a2ba177bf0343960": {
          "model_module": "@jupyter-widgets/controls",
          "model_name": "ProgressStyleModel",
          "model_module_version": "1.5.0",
          "state": {
            "_model_module": "@jupyter-widgets/controls",
            "_model_module_version": "1.5.0",
            "_model_name": "ProgressStyleModel",
            "_view_count": null,
            "_view_module": "@jupyter-widgets/base",
            "_view_module_version": "1.2.0",
            "_view_name": "StyleView",
            "bar_color": null,
            "description_width": ""
          }
        },
        "484e6b1cefb14801b72474952ae8ce96": {
          "model_module": "@jupyter-widgets/base",
          "model_name": "LayoutModel",
          "model_module_version": "1.2.0",
          "state": {
            "_model_module": "@jupyter-widgets/base",
            "_model_module_version": "1.2.0",
            "_model_name": "LayoutModel",
            "_view_count": null,
            "_view_module": "@jupyter-widgets/base",
            "_view_module_version": "1.2.0",
            "_view_name": "LayoutView",
            "align_content": null,
            "align_items": null,
            "align_self": null,
            "border": null,
            "bottom": null,
            "display": null,
            "flex": null,
            "flex_flow": null,
            "grid_area": null,
            "grid_auto_columns": null,
            "grid_auto_flow": null,
            "grid_auto_rows": null,
            "grid_column": null,
            "grid_gap": null,
            "grid_row": null,
            "grid_template_areas": null,
            "grid_template_columns": null,
            "grid_template_rows": null,
            "height": null,
            "justify_content": null,
            "justify_items": null,
            "left": null,
            "margin": null,
            "max_height": null,
            "max_width": null,
            "min_height": null,
            "min_width": null,
            "object_fit": null,
            "object_position": null,
            "order": null,
            "overflow": null,
            "overflow_x": null,
            "overflow_y": null,
            "padding": null,
            "right": null,
            "top": null,
            "visibility": null,
            "width": null
          }
        },
        "698c62bd6f934c6eb0d52be62678392a": {
          "model_module": "@jupyter-widgets/controls",
          "model_name": "DescriptionStyleModel",
          "model_module_version": "1.5.0",
          "state": {
            "_model_module": "@jupyter-widgets/controls",
            "_model_module_version": "1.5.0",
            "_model_name": "DescriptionStyleModel",
            "_view_count": null,
            "_view_module": "@jupyter-widgets/base",
            "_view_module_version": "1.2.0",
            "_view_name": "StyleView",
            "description_width": ""
          }
        }
      }
    },
    "gpuClass": "standard",
    "accelerator": "GPU"
  },
  "cells": [
    {
      "cell_type": "markdown",
      "metadata": {
        "id": "vd82CFhYntkf"
      },
      "source": [
        "# Análisis de Sentimientos de reseñas de comercio con RoBERTa en Español\n",
        "\n",
        "**Objetivo:**\n",
        "- Clasificar una opinion de un producto en POSITIVA o NEGATIVA\n",
        "\n",
        "**Tecnica y Metodos:**\n",
        "- Mediante la utilizacion de la libreria transformers de [Hugging Face](https://huggingface.co/), elegi el modelo [xlm-roberta-base](https://huggingface.co/xlm-roberta-base) para realizar el procesamiento del texto y el entrenamiento agregandole dos capas neuronales para mejorar el rendimiento. El se entreno con lenguaje español.\n",
        "- Como dataset se utilizó el dataset de [Amazon](https://huggingface.co/datasets/amazon_reviews_multi) donde contiene varias reviews de productos.\n",
        "- Como metrica se utilizó Acurracy ya que la distribucion de los ejemplos era equilibrada.\n",
        "- A pesar de haber sido entrenado con dataset de Amazon, se probo con opiniones de otras empresas coo Mercado Libre y Ebay con grandes rendimientos.\n",
        "\n",
        "**Link de interfaz grafica del modelo:** https://huggingface.co/spaces/JuanPabloAnselmo/Analisis_Sentimientos_RoBERTa"
      ]
    },
    {
      "cell_type": "markdown",
      "source": [
        "# 1. Instalo librerías"
      ],
      "metadata": {
        "id": "L2xbQpcoKRr6"
      }
    },
    {
      "cell_type": "code",
      "metadata": {
        "id": "_vbubgPZnoBz",
        "colab": {
          "base_uri": "https://localhost:8080/"
        },
        "outputId": "830ac9f2-6a05-461e-8006-287e08623e77"
      },
      "source": [
        "!pip install transformers datasets"
      ],
      "execution_count": null,
      "outputs": [
        {
          "output_type": "stream",
          "name": "stdout",
          "text": [
            "Looking in indexes: https://pypi.org/simple, https://us-python.pkg.dev/colab-wheels/public/simple/\n",
            "Requirement already satisfied: transformers in /usr/local/lib/python3.9/dist-packages (4.27.1)\n",
            "Requirement already satisfied: datasets in /usr/local/lib/python3.9/dist-packages (2.10.1)\n",
            "Requirement already satisfied: filelock in /usr/local/lib/python3.9/dist-packages (from transformers) (3.10.0)\n",
            "Requirement already satisfied: tokenizers!=0.11.3,<0.14,>=0.11.1 in /usr/local/lib/python3.9/dist-packages (from transformers) (0.13.2)\n",
            "Requirement already satisfied: packaging>=20.0 in /usr/local/lib/python3.9/dist-packages (from transformers) (23.0)\n",
            "Requirement already satisfied: requests in /usr/local/lib/python3.9/dist-packages (from transformers) (2.27.1)\n",
            "Requirement already satisfied: pyyaml>=5.1 in /usr/local/lib/python3.9/dist-packages (from transformers) (6.0)\n",
            "Requirement already satisfied: regex!=2019.12.17 in /usr/local/lib/python3.9/dist-packages (from transformers) (2022.10.31)\n",
            "Requirement already satisfied: numpy>=1.17 in /usr/local/lib/python3.9/dist-packages (from transformers) (1.22.4)\n",
            "Requirement already satisfied: huggingface-hub<1.0,>=0.11.0 in /usr/local/lib/python3.9/dist-packages (from transformers) (0.13.2)\n",
            "Requirement already satisfied: tqdm>=4.27 in /usr/local/lib/python3.9/dist-packages (from transformers) (4.65.0)\n",
            "Requirement already satisfied: xxhash in /usr/local/lib/python3.9/dist-packages (from datasets) (3.2.0)\n",
            "Requirement already satisfied: aiohttp in /usr/local/lib/python3.9/dist-packages (from datasets) (3.8.4)\n",
            "Requirement already satisfied: responses<0.19 in /usr/local/lib/python3.9/dist-packages (from datasets) (0.18.0)\n",
            "Requirement already satisfied: multiprocess in /usr/local/lib/python3.9/dist-packages (from datasets) (0.70.14)\n",
            "Requirement already satisfied: pandas in /usr/local/lib/python3.9/dist-packages (from datasets) (1.4.4)\n",
            "Requirement already satisfied: dill<0.3.7,>=0.3.0 in /usr/local/lib/python3.9/dist-packages (from datasets) (0.3.6)\n",
            "Requirement already satisfied: fsspec[http]>=2021.11.1 in /usr/local/lib/python3.9/dist-packages (from datasets) (2023.3.0)\n",
            "Requirement already satisfied: pyarrow>=6.0.0 in /usr/local/lib/python3.9/dist-packages (from datasets) (9.0.0)\n",
            "Requirement already satisfied: frozenlist>=1.1.1 in /usr/local/lib/python3.9/dist-packages (from aiohttp->datasets) (1.3.3)\n",
            "Requirement already satisfied: attrs>=17.3.0 in /usr/local/lib/python3.9/dist-packages (from aiohttp->datasets) (22.2.0)\n",
            "Requirement already satisfied: yarl<2.0,>=1.0 in /usr/local/lib/python3.9/dist-packages (from aiohttp->datasets) (1.8.2)\n",
            "Requirement already satisfied: multidict<7.0,>=4.5 in /usr/local/lib/python3.9/dist-packages (from aiohttp->datasets) (6.0.4)\n",
            "Requirement already satisfied: async-timeout<5.0,>=4.0.0a3 in /usr/local/lib/python3.9/dist-packages (from aiohttp->datasets) (4.0.2)\n",
            "Requirement already satisfied: charset-normalizer<4.0,>=2.0 in /usr/local/lib/python3.9/dist-packages (from aiohttp->datasets) (2.0.12)\n",
            "Requirement already satisfied: aiosignal>=1.1.2 in /usr/local/lib/python3.9/dist-packages (from aiohttp->datasets) (1.3.1)\n",
            "Requirement already satisfied: typing-extensions>=3.7.4.3 in /usr/local/lib/python3.9/dist-packages (from huggingface-hub<1.0,>=0.11.0->transformers) (4.5.0)\n",
            "Requirement already satisfied: urllib3<1.27,>=1.21.1 in /usr/local/lib/python3.9/dist-packages (from requests->transformers) (1.26.15)\n",
            "Requirement already satisfied: certifi>=2017.4.17 in /usr/local/lib/python3.9/dist-packages (from requests->transformers) (2022.12.7)\n",
            "Requirement already satisfied: idna<4,>=2.5 in /usr/local/lib/python3.9/dist-packages (from requests->transformers) (3.4)\n",
            "Requirement already satisfied: pytz>=2020.1 in /usr/local/lib/python3.9/dist-packages (from pandas->datasets) (2022.7.1)\n",
            "Requirement already satisfied: python-dateutil>=2.8.1 in /usr/local/lib/python3.9/dist-packages (from pandas->datasets) (2.8.2)\n",
            "Requirement already satisfied: six>=1.5 in /usr/local/lib/python3.9/dist-packages (from python-dateutil>=2.8.1->pandas->datasets) (1.15.0)\n"
          ]
        }
      ]
    },
    {
      "cell_type": "markdown",
      "source": [
        "# 2. Importo librerias y modulos"
      ],
      "metadata": {
        "id": "xlw65uieKZVu"
      }
    },
    {
      "cell_type": "code",
      "metadata": {
        "id": "Mc8cWZgOo-fw"
      },
      "source": [
        "from transformers import AdamW, get_linear_schedule_with_warmup, AutoTokenizer, AutoModelForMaskedLM, AutoModel\n",
        "import torch\n",
        "from torch import nn, optim\n",
        "from torch.utils.data import Dataset, DataLoader\n",
        "import pandas as pd\n",
        "from textwrap import wrap\n",
        "import math\n",
        "import numpy as np\n",
        "import torch.nn.functional as F"
      ],
      "execution_count": null,
      "outputs": []
    },
    {
      "cell_type": "markdown",
      "source": [
        "# 3. Procesamiento del dataset"
      ],
      "metadata": {
        "id": "7SzvrFD3Kd2O"
      }
    },
    {
      "cell_type": "code",
      "metadata": {
        "id": "2YBx1vdgTGV4",
        "colab": {
          "base_uri": "https://localhost:8080/"
        },
        "outputId": "bfbd3d8b-7367-42b3-9d39-3bf25e51f0ae"
      },
      "source": [
        "# Inicialización\n",
        "np.random.seed(42) # Elijo semilla\n",
        "torch.manual_seed(42)\n",
        "\n",
        "# Activo GPU\n",
        "device = torch.device(\"cuda:0\" if torch.cuda.is_available() else \"cpu\")\n",
        "print(device)"
      ],
      "execution_count": null,
      "outputs": [
        {
          "output_type": "stream",
          "name": "stdout",
          "text": [
            "cuda:0\n"
          ]
        }
      ]
    },
    {
      "cell_type": "code",
      "metadata": {
        "id": "NPax5SRMUHbL",
        "colab": {
          "base_uri": "https://localhost:8080/",
          "height": 197,
          "referenced_widgets": [
            "442083dac78f4293a44bbc860b4f2d62",
            "6df575cea8c54efcb8a11f0514707e98",
            "edbfebb1adbd497ebf339660403d4d6a",
            "16dd08368b8f4614b16f7752c73c08d8",
            "aef76dde5d2d4ec7bc59e9801bf83cfd",
            "c819dfe8fc4a4a77a4d26a7596b21e99",
            "c41013690449499ca696dc7d60bf7d97",
            "66fa856841f64ce49f5b2fb4259e86cb",
            "c3d46d873bb14c22a2ba177bf0343960",
            "484e6b1cefb14801b72474952ae8ce96",
            "698c62bd6f934c6eb0d52be62678392a"
          ]
        },
        "outputId": "91552c07-fc77-41a5-ef06-40c84efd314c"
      },
      "source": [
        "# Cargar dataset\n",
        "from datasets import load_dataset\n",
        "\n",
        "dataset = load_dataset(\"amazon_reviews_multi\", \"es\")\n",
        "\n",
        "# Filtro para no tener ejemplos de 3 estrellas ya que estan en el medio\n",
        "dataset = dataset.filter(lambda x : x[\"stars\"] != 3)\n",
        "\n",
        "# Categorizo en una variable \n",
        "# 1 o 2 estrellas = 0\n",
        "# 4 o 5 estrellas = 1\n",
        "def merge_star_ratings(examples):\n",
        "    if examples[\"stars\"] <= 2:\n",
        "        label = 0    \n",
        "    else:\n",
        "        label = 1\n",
        "    return {\"labels\": label}\n",
        "\n",
        "#mapeo\n",
        "dataset = dataset.map(merge_star_ratings)\n",
        "\n",
        "# Paso a pandas el dataset para tener un mejor control\n",
        "dataset.set_format(type=\"pandas\")\n",
        "\n",
        "# Train\n",
        "amazon_train = dataset[\"train\"][:]\n",
        "# Hago sample de 5000 ejemplos \n",
        "\n",
        "amazon_train = amazon_train.sample(n=5000, random_state=42)\n",
        "\n",
        "# Validacion\n",
        "amazon_val = dataset[\"validation\"][:]\n",
        "\n",
        "# Test\n",
        "amazon_test = dataset[\"test\"][:]"
      ],
      "execution_count": null,
      "outputs": [
        {
          "output_type": "stream",
          "name": "stderr",
          "text": [
            "WARNING:datasets.builder:Found cached dataset amazon_reviews_multi (/root/.cache/huggingface/datasets/amazon_reviews_multi/es/1.0.0/724e94f4b0c6c405ce7e476a6c5ef4f87db30799ad49f765094cf9770e0f7609)\n"
          ]
        },
        {
          "output_type": "display_data",
          "data": {
            "text/plain": [
              "  0%|          | 0/3 [00:00<?, ?it/s]"
            ],
            "application/vnd.jupyter.widget-view+json": {
              "version_major": 2,
              "version_minor": 0,
              "model_id": "442083dac78f4293a44bbc860b4f2d62"
            }
          },
          "metadata": {}
        },
        {
          "output_type": "stream",
          "name": "stderr",
          "text": [
            "WARNING:datasets.arrow_dataset:Loading cached processed dataset at /root/.cache/huggingface/datasets/amazon_reviews_multi/es/1.0.0/724e94f4b0c6c405ce7e476a6c5ef4f87db30799ad49f765094cf9770e0f7609/cache-b92b1ef33fd1ac5b.arrow\n",
            "WARNING:datasets.arrow_dataset:Loading cached processed dataset at /root/.cache/huggingface/datasets/amazon_reviews_multi/es/1.0.0/724e94f4b0c6c405ce7e476a6c5ef4f87db30799ad49f765094cf9770e0f7609/cache-45ae9580d431969d.arrow\n",
            "WARNING:datasets.arrow_dataset:Loading cached processed dataset at /root/.cache/huggingface/datasets/amazon_reviews_multi/es/1.0.0/724e94f4b0c6c405ce7e476a6c5ef4f87db30799ad49f765094cf9770e0f7609/cache-8954e08588b52d43.arrow\n",
            "WARNING:datasets.arrow_dataset:Loading cached processed dataset at /root/.cache/huggingface/datasets/amazon_reviews_multi/es/1.0.0/724e94f4b0c6c405ce7e476a6c5ef4f87db30799ad49f765094cf9770e0f7609/cache-da05b261ad2d969b.arrow\n",
            "WARNING:datasets.arrow_dataset:Loading cached processed dataset at /root/.cache/huggingface/datasets/amazon_reviews_multi/es/1.0.0/724e94f4b0c6c405ce7e476a6c5ef4f87db30799ad49f765094cf9770e0f7609/cache-0fce63f9ebf02d34.arrow\n",
            "WARNING:datasets.arrow_dataset:Loading cached processed dataset at /root/.cache/huggingface/datasets/amazon_reviews_multi/es/1.0.0/724e94f4b0c6c405ce7e476a6c5ef4f87db30799ad49f765094cf9770e0f7609/cache-0911669eccbe729f.arrow\n"
          ]
        }
      ]
    },
    {
      "cell_type": "code",
      "source": [
        "# Tamaños de las muestras\n",
        "print(f\"Train: {amazon_train.shape[0]}, Val: {amazon_val.shape[0]}, Test: {amazon_test.shape[0]}\")"
      ],
      "metadata": {
        "colab": {
          "base_uri": "https://localhost:8080/"
        },
        "id": "ubE4fDnQeIrv",
        "outputId": "0109fc14-1326-4f74-c089-723e5170c285"
      },
      "execution_count": null,
      "outputs": [
        {
          "output_type": "stream",
          "name": "stdout",
          "text": [
            "Train: 5000, Val: 4000, Test: 4000\n"
          ]
        }
      ]
    },
    {
      "cell_type": "code",
      "source": [
        "# Observo que la distribucion es equilibrada\n",
        "amazon_train.labels.value_counts()"
      ],
      "metadata": {
        "colab": {
          "base_uri": "https://localhost:8080/"
        },
        "id": "Fh0VZgp3LjYo",
        "outputId": "ec991889-332d-4e9d-b447-8d5b0dd37d02"
      },
      "execution_count": null,
      "outputs": [
        {
          "output_type": "execute_result",
          "data": {
            "text/plain": [
              "0    2541\n",
              "1    2459\n",
              "Name: labels, dtype: int64"
            ]
          },
          "metadata": {},
          "execution_count": 32
        }
      ]
    },
    {
      "cell_type": "markdown",
      "source": [
        "# 4. Tokenización del texto  "
      ],
      "metadata": {
        "id": "BkOvXG94oZSj"
      }
    },
    {
      "cell_type": "code",
      "metadata": {
        "id": "yEsKKezJVZEW"
      },
      "source": [
        "# Cargo el modelo para tokenizar el texto\n",
        "\n",
        "model_name = 'xlm-roberta-base'\n",
        "tokenizer = AutoTokenizer.from_pretrained(model_name)"
      ],
      "execution_count": null,
      "outputs": []
    },
    {
      "cell_type": "markdown",
      "source": [
        "# 5. Dataset y DataLoader"
      ],
      "metadata": {
        "id": "rJ8Wcorxo5sL"
      }
    },
    {
      "cell_type": "code",
      "metadata": {
        "id": "pqv-DZtzYQhm"
      },
      "source": [
        "# Creo calse Dataset\n",
        "\n",
        "class AmazonDataset(Dataset):\n",
        "\n",
        "  def __init__(self,reviews,labels,tokenizer,max_len : int= 250): \n",
        "    self.reviews = reviews # Texto\n",
        "    self.labels = labels # Etiquetas\n",
        "    self.tokenizer = tokenizer # Tokenizer\n",
        "    self.max_len = max_len #maximo de longitud de texto 250 caracteres\n",
        "\n",
        "  def __len__(self):\n",
        "      return len(self.reviews)\n",
        "    \n",
        "  def __getitem__(self, item):\n",
        "    review = str(self.reviews[item]) # Iterador\n",
        "    label = self.labels[item]\n",
        "    encoding = tokenizer.encode_plus(\n",
        "        review,\n",
        "        max_length = self.max_len,\n",
        "        truncation = True,\n",
        "        add_special_tokens = True,\n",
        "        return_token_type_ids = False,\n",
        "        padding = \"max_length\",\n",
        "        return_attention_mask = True,\n",
        "        return_tensors = 'pt'\n",
        "        )\n",
        "    \n",
        "\n",
        "    return {\n",
        "          'review': review,\n",
        "          'input_ids': encoding['input_ids'].flatten(),\n",
        "          'attention_mask': encoding['attention_mask'].flatten(),\n",
        "          'label': torch.tensor(label, dtype=torch.long)\n",
        "      } \n",
        "\n"
      ],
      "execution_count": null,
      "outputs": []
    },
    {
      "cell_type": "code",
      "metadata": {
        "id": "NaYe0FsoaNAv"
      },
      "source": [
        "# Creo funcion Dataloader\n",
        "\n",
        "def Amazon_data_loader(df, tokenizer, max_len : int= 250, batch_size : int= 16):\n",
        "  dataset = AmazonDataset(\n",
        "      reviews = df.review_body.to_numpy(),\n",
        "      labels = df.labels.to_numpy(),\n",
        "      tokenizer = tokenizer      \n",
        "  )\n",
        "\n",
        "  return DataLoader(dataset, batch_size, num_workers = 4)"
      ],
      "execution_count": null,
      "outputs": []
    },
    {
      "cell_type": "code",
      "metadata": {
        "id": "m9rNI4Tsa5MZ",
        "colab": {
          "base_uri": "https://localhost:8080/"
        },
        "outputId": "825f585d-2c73-43af-beca-00e90fdb06e7"
      },
      "source": [
        "# Instancio los DataLoaders\n",
        "\n",
        "train_data_loader = Amazon_data_loader(amazon_train, tokenizer)\n",
        "val_data_loader = Amazon_data_loader(amazon_val, tokenizer)\n",
        "test_data_loader = Amazon_data_loader(amazon_test, tokenizer)"
      ],
      "execution_count": null,
      "outputs": [
        {
          "output_type": "stream",
          "name": "stderr",
          "text": [
            "/usr/local/lib/python3.9/dist-packages/torch/utils/data/dataloader.py:554: UserWarning: This DataLoader will create 4 worker processes in total. Our suggested max number of worker in current system is 2, which is smaller than what this DataLoader is going to create. Please be aware that excessive worker creation might get DataLoader running slow or even freeze, lower the worker number to avoid potential slowness/freeze if necessary.\n",
            "  warnings.warn(_create_warning_msg(\n"
          ]
        }
      ]
    },
    {
      "cell_type": "markdown",
      "source": [
        "# 6. Modelo - RoBERTa"
      ],
      "metadata": {
        "id": "Q53-bDpjpBX8"
      }
    },
    {
      "cell_type": "code",
      "metadata": {
        "id": "VOnca-sVbhPX"
      },
      "source": [
        "# Creo el modelo\n",
        "\n",
        "class RobertaModel(nn.Module):\n",
        "\n",
        "  def __init__(self, n_classes: int = 2):\n",
        "    super().__init__()\n",
        "    self.roberta = AutoModel.from_pretrained(\"xlm-roberta-base\") # Transformer\n",
        "    self.dropout = nn.Dropout(p=0.3) #Dropout para disminuir el overfitting\n",
        "    self.linear = nn.Linear(self.roberta.config.hidden_size, self.roberta.config.hidden_size) # 1er capa linear\n",
        "    self.classification = nn.Linear(self.roberta.config.hidden_size, n_classes) # 2da capa linear\n",
        "   \n",
        "  def forward(self, input_ids, attention_mask):\n",
        "    #Roberta layer\n",
        "    cls_output = self.roberta(input_ids=input_ids, attention_mask=attention_mask) \n",
        "    pooled_output = torch.mean(cls_output.last_hidden_state, 1)\n",
        "\n",
        "    \n",
        "    # Red Nueronal   \n",
        "    pooled_output = self.linear(pooled_output) # Primera capa\n",
        "    pooled_output = F.relu(pooled_output) # Funcion de activacion relu\n",
        "    pooled_output = self.dropout(pooled_output) # Dropout        \n",
        "    output = self.classification(pooled_output) #Segunda capa\n",
        "\n",
        "    return output\n",
        "\n",
        "\n"
      ],
      "execution_count": null,
      "outputs": []
    },
    {
      "cell_type": "code",
      "metadata": {
        "id": "CanuNncKdXaF",
        "colab": {
          "base_uri": "https://localhost:8080/"
        },
        "outputId": "1626abda-3e4c-435e-bc91-c49d9da7beae"
      },
      "source": [
        "# Instancio modelo\n",
        "model = RobertaModel().to(device)"
      ],
      "execution_count": null,
      "outputs": [
        {
          "output_type": "stream",
          "name": "stderr",
          "text": [
            "Some weights of the model checkpoint at xlm-roberta-base were not used when initializing XLMRobertaModel: ['lm_head.layer_norm.weight', 'lm_head.dense.bias', 'lm_head.bias', 'lm_head.decoder.weight', 'lm_head.layer_norm.bias', 'lm_head.dense.weight']\n",
            "- This IS expected if you are initializing XLMRobertaModel from the checkpoint of a model trained on another task or with another architecture (e.g. initializing a BertForSequenceClassification model from a BertForPreTraining model).\n",
            "- This IS NOT expected if you are initializing XLMRobertaModel from the checkpoint of a model that you expect to be exactly identical (initializing a BertForSequenceClassification model from a BertForSequenceClassification model).\n"
          ]
        }
      ]
    },
    {
      "cell_type": "markdown",
      "source": [
        "# 7. Optimizacion modelo"
      ],
      "metadata": {
        "id": "GRjTm2SEpWWj"
      }
    },
    {
      "cell_type": "code",
      "metadata": {
        "id": "Mansb6pfdn_H"
      },
      "source": [
        "# Optimizacion y parametros de entrenamiento\n",
        "EPOCHS = 5\n",
        "optimizer = torch.optim.AdamW(model.parameters(), lr=2e-5, weight_decay=0.001)\n",
        "total_steps = len(train_data_loader) * EPOCHS\n",
        "scheduler = get_linear_schedule_with_warmup(\n",
        "    optimizer,\n",
        "    num_warmup_steps = math.floor(total_steps * 0.2),\n",
        "    num_training_steps = total_steps\n",
        ")\n",
        "\n",
        "loss_fn = nn.CrossEntropyLoss().to(device)"
      ],
      "execution_count": null,
      "outputs": []
    },
    {
      "cell_type": "markdown",
      "source": [
        "# 8. Loops de Train y Evaluacion"
      ],
      "metadata": {
        "id": "VJATL2gRpbm_"
      }
    },
    {
      "cell_type": "code",
      "metadata": {
        "id": "ihoNOG0Zeuhz"
      },
      "source": [
        "# Defino funcion de loop de Train\n",
        "\n",
        "def train_model(model, data_loader, loss_fn, optimizer, device, scheduler, n_examples):\n",
        "  model = model.train()\n",
        "  losses = []\n",
        "  correct_predictions = 0\n",
        "  for batch in data_loader:\n",
        "    input_ids = batch['input_ids'].to(device)\n",
        "    attention_mask = batch['attention_mask'].to(device)\n",
        "    labels = batch['label'].to(device)\n",
        "    outputs = model(input_ids, attention_mask)\n",
        "    _, preds = torch.max(outputs, dim=1)\n",
        "    loss = loss_fn(outputs, labels)\n",
        "    correct_predictions += torch.sum(preds == labels)\n",
        "    losses.append(loss.item())\n",
        "    loss.backward()\n",
        "    nn.utils.clip_grad_norm_(model.parameters(), max_norm=1.0)\n",
        "    optimizer.step()\n",
        "    scheduler.step()\n",
        "    optimizer.zero_grad()\n",
        "  return correct_predictions.double()/n_examples, np.mean(losses)\n",
        "\n",
        "# Defino funcion de loop de Evaluacion\n",
        "\n",
        "def eval_model(model, data_loader, loss_fn, device, n_examples):\n",
        "  model = model.eval()\n",
        "  losses = []\n",
        "  correct_predictions = 0\n",
        "  with torch.no_grad():\n",
        "    for batch in data_loader:\n",
        "      input_ids = batch['input_ids'].to(device)\n",
        "      attention_mask = batch['attention_mask'].to(device)\n",
        "      labels = batch['label'].to(device)\n",
        "      outputs = model(input_ids, attention_mask)\n",
        "      _, preds = torch.max(outputs, dim=1)\n",
        "      loss = loss_fn(outputs, labels)\n",
        "      correct_predictions += torch.sum(preds == labels)\n",
        "      losses.append(loss.item())\n",
        "  return correct_predictions.double()/n_examples, np.mean(losses)"
      ],
      "execution_count": null,
      "outputs": []
    },
    {
      "cell_type": "markdown",
      "source": [
        "# 9. Train y Validacion"
      ],
      "metadata": {
        "id": "YLm_MSv4ppNQ"
      }
    },
    {
      "cell_type": "code",
      "source": [
        "from tqdm import tqdm\n",
        "\n",
        "results = {\"train_loss\": [],\n",
        "        \"train_acc\": [],\n",
        "        \"val_loss\": [],\n",
        "        \"val_acc\": [] }\n",
        "\n",
        "\n",
        "for epoch in tqdm(range(EPOCHS), desc='Epochs', unit='epoch'):\n",
        "    train_acc, train_loss = train_model(\n",
        "        model, train_data_loader, loss_fn, optimizer, device, scheduler, len(amazon_train)\n",
        "    )\n",
        "    val_acc, val_loss = eval_model(\n",
        "        model, val_data_loader, loss_fn, device, len(amazon_val)\n",
        "    )\n",
        "    print('Entrenamiento: Loss: {}, accuracy: {}'.format(train_loss, train_acc))\n",
        "    print('Validación: Loss: {}, accuracy: {}'.format(val_loss, val_acc))    \n",
        "    print('')\n",
        "\n",
        "    results[\"train_loss\"].append(train_loss)\n",
        "    results[\"train_acc\"].append(train_acc.cpu())\n",
        "    results[\"val_loss\"].append(val_loss)\n",
        "    results[\"val_acc\"].append(val_acc.cpu())"
      ],
      "metadata": {
        "colab": {
          "base_uri": "https://localhost:8080/"
        },
        "id": "uMhFkVSbZ-JZ",
        "outputId": "4e8e7f9d-207d-4534-b641-468d009ee68d"
      },
      "execution_count": null,
      "outputs": [
        {
          "metadata": {
            "tags": null
          },
          "name": "stderr",
          "output_type": "stream",
          "text": [
            "Epochs:  20%|██        | 1/5 [05:10<20:43, 310.93s/epoch]"
          ]
        },
        {
          "metadata": {
            "tags": null
          },
          "name": "stdout",
          "output_type": "stream",
          "text": [
            "Entrenamiento: Loss: 0.48165162550374724, accuracy: 0.758\n",
            "Validación: Loss: 0.3143501685075462, accuracy: 0.89875\n",
            "\n"
          ]
        },
        {
          "metadata": {
            "tags": null
          },
          "name": "stderr",
          "output_type": "stream",
          "text": [
            "\rEpochs:  40%|████      | 2/5 [10:20<15:31, 310.39s/epoch]"
          ]
        },
        {
          "metadata": {
            "tags": null
          },
          "name": "stdout",
          "output_type": "stream",
          "text": [
            "Entrenamiento: Loss: 0.2671507182902993, accuracy: 0.9142\n",
            "Validación: Loss: 0.4261229776507244, accuracy: 0.9035\n",
            "\n"
          ]
        },
        {
          "output_type": "stream",
          "name": "stderr",
          "text": [
            "\rEpochs:  60%|██████    | 3/5 [15:30<10:20, 310.19s/epoch]"
          ]
        },
        {
          "output_type": "stream",
          "name": "stdout",
          "text": [
            "Entrenamiento: Loss: 0.19799879044904328, accuracy: 0.9450000000000001\n",
            "Validación: Loss: 0.30657084015756847, accuracy: 0.9197500000000001\n",
            "\n"
          ]
        },
        {
          "output_type": "stream",
          "name": "stderr",
          "text": [
            "\rEpochs:  80%|████████  | 4/5 [20:40<05:10, 310.11s/epoch]"
          ]
        },
        {
          "output_type": "stream",
          "name": "stdout",
          "text": [
            "Entrenamiento: Loss: 0.1432221912795279, accuracy: 0.9640000000000001\n",
            "Validación: Loss: 0.3425261586601846, accuracy: 0.92725\n",
            "\n"
          ]
        },
        {
          "output_type": "stream",
          "name": "stderr",
          "text": [
            "Epochs: 100%|██████████| 5/5 [25:50<00:00, 310.15s/epoch]"
          ]
        },
        {
          "output_type": "stream",
          "name": "stdout",
          "text": [
            "Entrenamiento: Loss: 0.10503748622083198, accuracy: 0.9770000000000001\n",
            "Validación: Loss: 0.40620650989818385, accuracy: 0.9255\n",
            "\n"
          ]
        },
        {
          "output_type": "stream",
          "name": "stderr",
          "text": [
            "\n"
          ]
        }
      ]
    },
    {
      "cell_type": "markdown",
      "source": [
        "Se evidencia un Accuracy mayor al 90% en Train y validacion con una perdida muy baja. Gran rendiemiento del modelo"
      ],
      "metadata": {
        "id": "crcRMvJRp8cH"
      }
    },
    {
      "cell_type": "markdown",
      "source": [
        "# 10. Gráfico de Loss y Accuracy"
      ],
      "metadata": {
        "id": "fDbCvTHopvMZ"
      }
    },
    {
      "cell_type": "code",
      "source": [
        "# Creo funciones\n",
        "\n",
        "import matplotlib.pyplot as plt\n",
        "\n",
        "def plot_loss(train_loss, val_loss):\n",
        "    fig, ax = plt.subplots(figsize=(12, 6))\n",
        "    ax.set_title(\"Loss - Train vs Val\")\n",
        "    ax.plot(train_loss, label=\"Loss Train\")\n",
        "    ax.set_xlabel(\"Epoch\")\n",
        "    ax.set_ylabel(\"Loss\")\n",
        "    ax2 = ax.twinx()\n",
        "    ax2.plot(val_loss, label=\"Loss Val\", color=\"orange\")    \n",
        "    ax.legend(loc=\"upper left\")\n",
        "    ax2.legend(loc=\"upper right\")      \n",
        "    ax.grid(True)\n",
        "    plt.show()\n",
        "\n",
        "def plot_accuracy(train_acc, val_acc):\n",
        "    fig, ax = plt.subplots(figsize=(12, 6))\n",
        "    ax.set_title(\"Accuracy - Train vs Val\")\n",
        "    ax.plot(train_acc, label=\"Accuracy Train\")\n",
        "    ax.set_xlabel(\"Epoch\")\n",
        "    ax.set_ylabel(\"Loss\")\n",
        "    ax2 = ax.twinx()\n",
        "    ax2.plot(val_acc, label=\"Accuracy Val\", color=\"orange\")    \n",
        "    ax.legend(loc=\"upper left\")\n",
        "    ax2.legend(loc=\"upper right\")    \n",
        "    ax.grid(True)\n",
        "    plt.show()"
      ],
      "metadata": {
        "id": "nVQfgboQ7Hgh"
      },
      "execution_count": null,
      "outputs": []
    },
    {
      "cell_type": "code",
      "source": [
        "plot_loss(results[\"train_loss\"], results[\"val_loss\"])\n",
        "plot_accuracy(results[\"train_acc\"], results[\"val_acc\"])"
      ],
      "metadata": {
        "id": "M080kUlm7bFv",
        "colab": {
          "base_uri": "https://localhost:8080/",
          "height": 791
        },
        "outputId": "3da55ec4-cd5f-46c6-8db8-24ed165ac7f5"
      },
      "execution_count": null,
      "outputs": [
        {
          "output_type": "display_data",
          "data": {
            "text/plain": [
              "<Figure size 864x432 with 2 Axes>"
            ],
            "image/png": "[encoded data removed]"
          },
          "metadata": {
            "needs_background": "light"
          }
        },
        {
          "output_type": "display_data",
          "data": {
            "text/plain": [
              "<Figure size 864x432 with 2 Axes>"
            ],
            "image/png": "[encoded data removed]"
          },
          "metadata": {
            "needs_background": "light"
          }
        }
      ]
    },
    {
      "cell_type": "markdown",
      "source": [
        "**Loss:** En el epoch 2 se evidencia la menor perdida del conjunto de validacion, luego comienza a aumentar pero siempre manteniendo un valor muy bajo\n",
        "\n",
        "**Accuracy:** Se evidencia un aumento de Acurracy en ambos conjuntos ( Train y Validacion) con un valor mayor al 90%, no se observa overfitting."
      ],
      "metadata": {
        "id": "fTYrfaWEp7Wu"
      }
    },
    {
      "cell_type": "markdown",
      "source": [
        "# 11. Evaluacion de Test"
      ],
      "metadata": {
        "id": "zOte9YvUq4ol"
      }
    },
    {
      "cell_type": "code",
      "source": [
        "test_acc, test_loss = eval_model(\n",
        "    model, test_data_loader, loss_fn, device, len(amazon_test))\n",
        "\n",
        "print('Test: Loss: {}, accuracy: {}'.format(test_loss, test_acc))"
      ],
      "metadata": {
        "id": "EY-8PIEdgoKv",
        "colab": {
          "base_uri": "https://localhost:8080/"
        },
        "outputId": "d3b78acb-6381-434b-f6ac-6199fe69518f"
      },
      "execution_count": null,
      "outputs": [
        {
          "output_type": "stream",
          "name": "stdout",
          "text": [
            "Test: Loss: 0.4140483306741808, accuracy: 0.9225\n"
          ]
        }
      ]
    },
    {
      "cell_type": "markdown",
      "source": [
        "Se evidencia nuevamente un gran rendimiento (Accuracy mayor a 90%) en el conjunto de Test"
      ],
      "metadata": {
        "id": "ISRW2Gfeq8rt"
      }
    },
    {
      "cell_type": "markdown",
      "source": [
        "# 12. Salvar modelo\n",
        "\n",
        "Se guarda en el inicio de Google Drive"
      ],
      "metadata": {
        "id": "m3z4K0TYrGR_"
      }
    },
    {
      "cell_type": "code",
      "source": [
        "# Doy permisos para guardar en el Drive\n",
        "\n",
        "from google.colab import drive\n",
        "drive.mount('/content/drive')"
      ],
      "metadata": {
        "id": "VOS70zpXiFPo",
        "colab": {
          "base_uri": "https://localhost:8080/"
        },
        "outputId": "9f9cfc5b-2e69-4bd2-b7bf-2feaa34cc210"
      },
      "execution_count": null,
      "outputs": [
        {
          "output_type": "stream",
          "name": "stdout",
          "text": [
            "Mounted at /content/drive\n"
          ]
        }
      ]
    },
    {
      "cell_type": "code",
      "source": [
        "# Guardo el modelo\n",
        "\n",
        "PATH = \"/content/drive/My Drive/Modelo_Amazon_review.pt\"\n",
        "\n",
        "torch.save(model.state_dict(), PATH)"
      ],
      "metadata": {
        "id": "lONlxUbuiVe_"
      },
      "execution_count": null,
      "outputs": []
    },
    {
      "cell_type": "markdown",
      "source": [
        "# 13. Evaluacion con texto propio"
      ],
      "metadata": {
        "id": "xRhNtF_trWmL"
      }
    },
    {
      "cell_type": "code",
      "metadata": {
        "id": "QTG7YKnVjDA-"
      },
      "source": [
        "# Creo una funcion para colocar el review y comprobar si es positivo o negativo\n",
        "\n",
        "def ClasificacionSentimiento(review_text):\n",
        "    encoding_review = tokenizer.encode_plus(\n",
        "        review_text,\n",
        "        max_length = 250,\n",
        "        truncation = True,\n",
        "        add_special_tokens = True,\n",
        "        return_token_type_ids = False,\n",
        "        padding = \"max_length\",\n",
        "        return_attention_mask = True,\n",
        "        return_tensors = 'pt'\n",
        "        )\n",
        "    \n",
        "    input_ids = encoding_review['input_ids'].to(device)\n",
        "    attention_mask = encoding_review['attention_mask'].to(device)\n",
        "    output = model(input_ids, attention_mask)    \n",
        "    _, prediction = torch.max(output, dim=1)\n",
        "    print(\"\\n\".join(wrap(review_text)))\n",
        "    print(prediction)\n",
        "    if prediction == 0:\n",
        "        print('Sentimiento predicho: NEGATIVO')\n",
        "    else:\n",
        "        print('Sentimiento predicho: POSITIVO')\n",
        "\n",
        "\n",
        "  "
      ],
      "execution_count": null,
      "outputs": []
    },
    {
      "cell_type": "code",
      "metadata": {
        "id": "oe0im1_alf4K",
        "colab": {
          "base_uri": "https://localhost:8080/"
        },
        "outputId": "e8deb00e-78a5-428a-ab6f-3eb674425974"
      },
      "source": [
        "# Implementacion \n",
        "\n",
        "text = \"El producto no tiene un olor fuerte. Lo compré para probarlo porque era más barato que el popopurrí. Prefiero pagar el costo más alto ahora. Tampoco dura mucho. Simplemente no vale la pena para mí.\"\n",
        "ClasificacionSentimiento(text)"
      ],
      "execution_count": null,
      "outputs": [
        {
          "output_type": "stream",
          "name": "stdout",
          "text": [
            "El producto no tiene un olor fuerte. Lo compré para probarlo porque\n",
            "era más barato que el popopurrí. Prefiero pagar el costo más alto\n",
            "ahora. Tampoco dura mucho. Simplemente no vale la pena para mí.\n",
            "tensor([0], device='cuda:0')\n",
            "Sentimiento predicho: NEGATIVO\n"
          ]
        }
      ]
    },
    {
      "cell_type": "markdown",
      "source": [
        "# 14. Conclusión\n",
        "\n",
        "El rendimiento del modelo con los 3 conjuntos del dataset fue muy bueno con un Accuracy mayor al 90%. \n",
        "\n",
        "Aunque fue entrenado con un dataset de Amazon, se probo con reviews de otras paginas como Mercado Libre y Ebay con grandes resultados.\n",
        "\n",
        "Se creo interfaz grafica para poder utilizar el modelo: https://huggingface.co/spaces/JuanPabloAnselmo/Analisis_Sentimientos_RoBERTa"
      ],
      "metadata": {
        "id": "rNlHECVBuDXJ"
      }
    },
    {
      "cell_type": "code",
      "source": [],
      "metadata": {
        "id": "0uTrqRAer4EC"
      },
      "execution_count": null,
      "outputs": []
    }
  ]
}